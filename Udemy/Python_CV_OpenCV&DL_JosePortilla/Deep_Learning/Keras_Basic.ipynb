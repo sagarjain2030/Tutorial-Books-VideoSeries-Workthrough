{
 "cells": [
  {
   "cell_type": "code",
   "execution_count": 1,
   "metadata": {
    "collapsed": true
   },
   "outputs": [],
   "source": [
    "import numpy as np\n",
    "from numpy import genfromtxt"
   ]
  },
  {
   "cell_type": "code",
   "execution_count": 2,
   "metadata": {},
   "outputs": [
    {
     "data": {
      "text/plain": [
       "array([[  3.6216 ,   8.6661 ,  -2.8073 ,  -0.44699,   0.     ],\n",
       "       [  4.5459 ,   8.1674 ,  -2.4586 ,  -1.4621 ,   0.     ],\n",
       "       [  3.866  ,  -2.6383 ,   1.9242 ,   0.10645,   0.     ],\n",
       "       ...,\n",
       "       [ -3.7503 , -13.4586 ,  17.5932 ,  -2.7771 ,   1.     ],\n",
       "       [ -3.5637 ,  -8.3827 ,  12.393  ,  -1.2823 ,   1.     ],\n",
       "       [ -2.5419 ,  -0.65804,   2.6842 ,   1.1952 ,   1.     ]])"
      ]
     },
     "execution_count": 2,
     "metadata": {},
     "output_type": "execute_result"
    }
   ],
   "source": [
    "data = genfromtxt('../Data/bank_note_data.txt',delimiter=',')\n",
    "data"
   ]
  },
  {
   "cell_type": "code",
   "execution_count": 3,
   "metadata": {},
   "outputs": [
    {
     "data": {
      "text/plain": [
       "array([0., 0., 0., ..., 1., 1., 1.])"
      ]
     },
     "execution_count": 3,
     "metadata": {},
     "output_type": "execute_result"
    }
   ],
   "source": [
    "labels = data[:,-1]\n",
    "labels"
   ]
  },
  {
   "cell_type": "code",
   "execution_count": 4,
   "metadata": {},
   "outputs": [
    {
     "data": {
      "text/plain": [
       "array([[  3.6216 ,   8.6661 ,  -2.8073 ,  -0.44699],\n",
       "       [  4.5459 ,   8.1674 ,  -2.4586 ,  -1.4621 ],\n",
       "       [  3.866  ,  -2.6383 ,   1.9242 ,   0.10645],\n",
       "       ...,\n",
       "       [ -3.7503 , -13.4586 ,  17.5932 ,  -2.7771 ],\n",
       "       [ -3.5637 ,  -8.3827 ,  12.393  ,  -1.2823 ],\n",
       "       [ -2.5419 ,  -0.65804,   2.6842 ,   1.1952 ]])"
      ]
     },
     "execution_count": 4,
     "metadata": {},
     "output_type": "execute_result"
    }
   ],
   "source": [
    "features = data[:,0:4]\n",
    "features"
   ]
  },
  {
   "cell_type": "code",
   "execution_count": 5,
   "metadata": {
    "collapsed": true
   },
   "outputs": [],
   "source": [
    "X = features\n",
    "y = labels"
   ]
  },
  {
   "cell_type": "code",
   "execution_count": 6,
   "metadata": {
    "collapsed": true
   },
   "outputs": [],
   "source": [
    "from sklearn.model_selection import train_test_split\n",
    "X_train,X_test,y_train,y_test = train_test_split(X,y,test_size=0.33,random_state=42)"
   ]
  },
  {
   "cell_type": "code",
   "execution_count": 7,
   "metadata": {},
   "outputs": [
    {
     "data": {
      "text/plain": [
       "919"
      ]
     },
     "execution_count": 7,
     "metadata": {},
     "output_type": "execute_result"
    }
   ],
   "source": [
    "len(X_train)"
   ]
  },
  {
   "cell_type": "code",
   "execution_count": 8,
   "metadata": {},
   "outputs": [
    {
     "data": {
      "text/plain": [
       "1372"
      ]
     },
     "execution_count": 8,
     "metadata": {},
     "output_type": "execute_result"
    }
   ],
   "source": [
    "len(X)"
   ]
  },
  {
   "cell_type": "code",
   "execution_count": 9,
   "metadata": {
    "collapsed": true
   },
   "outputs": [],
   "source": [
    "from sklearn.preprocessing import MinMaxScaler\n",
    "scaler_Object = MinMaxScaler()\n",
    "scaler_Object.fit(X_train)\n",
    "\n",
    "scaled_X_train = scaler_Object.transform(X_train)\n",
    "scaled_X_test = scaler_Object.transform(X_test)\n"
   ]
  },
  {
   "cell_type": "code",
   "execution_count": 10,
   "metadata": {},
   "outputs": [
    {
     "data": {
      "text/plain": [
       "1.0000000000000002"
      ]
     },
     "execution_count": 10,
     "metadata": {},
     "output_type": "execute_result"
    }
   ],
   "source": [
    "scaled_X_train.max()"
   ]
  },
  {
   "cell_type": "code",
   "execution_count": 11,
   "metadata": {},
   "outputs": [
    {
     "data": {
      "text/plain": [
       "array([[4.44850688e-01, 5.14130449e-01, 2.18194638e-01, 8.50172258e-01],\n",
       "       [6.53339968e-01, 5.82655745e-01, 9.93242398e-02, 8.17696322e-01],\n",
       "       [4.81846700e-01, 6.69377018e-01, 3.61193167e-01, 7.63368407e-01],\n",
       "       ...,\n",
       "       [4.11050776e-04, 8.63104170e-01, 2.34046756e-01, 3.74261253e-01],\n",
       "       [2.58284115e-01, 6.16029366e-01, 2.33861752e-01, 7.02643151e-01],\n",
       "       [2.65661395e-01, 2.44444278e-01, 7.20316361e-01, 7.44775785e-01]])"
      ]
     },
     "execution_count": 11,
     "metadata": {},
     "output_type": "execute_result"
    }
   ],
   "source": [
    "scaled_X_train"
   ]
  },
  {
   "cell_type": "code",
   "execution_count": 12,
   "metadata": {},
   "outputs": [
    {
     "name": "stderr",
     "output_type": "stream",
     "text": [
      "Using TensorFlow backend.\n"
     ]
    }
   ],
   "source": [
    "from keras.models import Sequential\n",
    "from keras.layers import Dense"
   ]
  },
  {
   "cell_type": "code",
   "execution_count": 13,
   "metadata": {},
   "outputs": [
    {
     "name": "stdout",
     "output_type": "stream",
     "text": [
      "WARNING:tensorflow:From C:\\Anaconda3\\envs\\aind-dl\\lib\\site-packages\\keras\\backend\\tensorflow_backend.py:1123: calling reduce_mean (from tensorflow.python.ops.math_ops) with keep_dims is deprecated and will be removed in a future version.\n",
      "Instructions for updating:\n",
      "keep_dims is deprecated, use keepdims instead\n"
     ]
    }
   ],
   "source": [
    "model = Sequential()\n",
    "\n",
    "model.add(Dense(4,input_dim=4,activation='relu'))\n",
    "model.add(Dense(8,activation='relu'))\n",
    "model.add(Dense(1,activation='sigmoid'))\n",
    "\n",
    "model.compile(loss='binary_crossentropy',optimizer='adam',metrics=['accuracy'])\n"
   ]
  },
  {
   "cell_type": "code",
   "execution_count": 14,
   "metadata": {},
   "outputs": [
    {
     "name": "stdout",
     "output_type": "stream",
     "text": [
      "Epoch 1/50\n",
      "5s - loss: 0.6735 - acc: 0.6061\n",
      "Epoch 2/50\n",
      "0s - loss: 0.6636 - acc: 0.6507\n",
      "Epoch 3/50\n",
      "0s - loss: 0.6543 - acc: 0.6551\n",
      "Epoch 4/50\n",
      "0s - loss: 0.6440 - acc: 0.6736\n",
      "Epoch 5/50\n",
      "0s - loss: 0.6343 - acc: 0.6801\n",
      "Epoch 6/50\n",
      "0s - loss: 0.6240 - acc: 0.6801\n",
      "Epoch 7/50\n",
      "0s - loss: 0.6126 - acc: 0.6768\n",
      "Epoch 8/50\n",
      "0s - loss: 0.6006 - acc: 0.6779\n",
      "Epoch 9/50\n",
      "0s - loss: 0.5877 - acc: 0.6888\n",
      "Epoch 10/50\n",
      "0s - loss: 0.5698 - acc: 0.7269\n",
      "Epoch 11/50\n",
      "0s - loss: 0.5401 - acc: 0.7497\n",
      "Epoch 12/50\n",
      "0s - loss: 0.5158 - acc: 0.7965\n",
      "Epoch 13/50\n",
      "0s - loss: 0.4930 - acc: 0.8150\n",
      "Epoch 14/50\n",
      "0s - loss: 0.4710 - acc: 0.8183\n",
      "Epoch 15/50\n",
      "0s - loss: 0.4511 - acc: 0.8400\n",
      "Epoch 16/50\n",
      "0s - loss: 0.4306 - acc: 0.8466\n",
      "Epoch 17/50\n",
      "0s - loss: 0.4121 - acc: 0.8694\n",
      "Epoch 18/50\n",
      "0s - loss: 0.3933 - acc: 0.8792\n",
      "Epoch 19/50\n",
      "0s - loss: 0.3785 - acc: 0.8934\n",
      "Epoch 20/50\n",
      "0s - loss: 0.3611 - acc: 0.8901\n",
      "Epoch 21/50\n",
      "0s - loss: 0.3463 - acc: 0.9010\n",
      "Epoch 22/50\n",
      "0s - loss: 0.3321 - acc: 0.9010\n",
      "Epoch 23/50\n",
      "0s - loss: 0.3188 - acc: 0.9053\n",
      "Epoch 24/50\n",
      "0s - loss: 0.3066 - acc: 0.9097\n",
      "Epoch 25/50\n",
      "0s - loss: 0.2939 - acc: 0.9162\n",
      "Epoch 26/50\n",
      "0s - loss: 0.2826 - acc: 0.9227\n",
      "Epoch 27/50\n",
      "0s - loss: 0.2714 - acc: 0.9282\n",
      "Epoch 28/50\n",
      "0s - loss: 0.2614 - acc: 0.9358\n",
      "Epoch 29/50\n",
      "0s - loss: 0.2518 - acc: 0.9391\n",
      "Epoch 30/50\n",
      "0s - loss: 0.2418 - acc: 0.9402\n",
      "Epoch 31/50\n",
      "0s - loss: 0.2356 - acc: 0.9434\n",
      "Epoch 32/50\n",
      "0s - loss: 0.2249 - acc: 0.9510\n",
      "Epoch 33/50\n",
      "0s - loss: 0.2169 - acc: 0.9521\n",
      "Epoch 34/50\n",
      "0s - loss: 0.2093 - acc: 0.9554\n",
      "Epoch 35/50\n",
      "0s - loss: 0.2024 - acc: 0.9532\n",
      "Epoch 36/50\n",
      "0s - loss: 0.1970 - acc: 0.9510\n",
      "Epoch 37/50\n",
      "0s - loss: 0.1898 - acc: 0.9543\n",
      "Epoch 38/50\n",
      "0s - loss: 0.1830 - acc: 0.9532\n",
      "Epoch 39/50\n",
      "0s - loss: 0.1775 - acc: 0.9554\n",
      "Epoch 40/50\n",
      "0s - loss: 0.1718 - acc: 0.9532\n",
      "Epoch 41/50\n",
      "0s - loss: 0.1668 - acc: 0.9543\n",
      "Epoch 42/50\n",
      "0s - loss: 0.1620 - acc: 0.9532\n",
      "Epoch 43/50\n",
      "0s - loss: 0.1572 - acc: 0.9587\n",
      "Epoch 44/50\n",
      "0s - loss: 0.1521 - acc: 0.9543\n",
      "Epoch 45/50\n",
      "0s - loss: 0.1477 - acc: 0.9587\n",
      "Epoch 46/50\n",
      "0s - loss: 0.1433 - acc: 0.9608\n",
      "Epoch 47/50\n",
      "0s - loss: 0.1395 - acc: 0.9608\n",
      "Epoch 48/50\n",
      "0s - loss: 0.1353 - acc: 0.9608\n",
      "Epoch 49/50\n",
      "0s - loss: 0.1317 - acc: 0.9630\n",
      "Epoch 50/50\n",
      "0s - loss: 0.1278 - acc: 0.9652\n"
     ]
    },
    {
     "data": {
      "text/plain": [
       "<keras.callbacks.History at 0x137a3748>"
      ]
     },
     "execution_count": 14,
     "metadata": {},
     "output_type": "execute_result"
    }
   ],
   "source": [
    "model.fit(scaled_X_train,y_train,epochs=50,verbose=2)"
   ]
  },
  {
   "cell_type": "code",
   "execution_count": 16,
   "metadata": {},
   "outputs": [
    {
     "data": {
      "text/plain": [
       "['loss', 'acc']"
      ]
     },
     "execution_count": 16,
     "metadata": {},
     "output_type": "execute_result"
    }
   ],
   "source": [
    "model.metrics_names"
   ]
  },
  {
   "cell_type": "code",
   "execution_count": 17,
   "metadata": {},
   "outputs": [
    {
     "name": "stdout",
     "output_type": "stream",
     "text": [
      "\r",
      " 32/453 [=>............................] - ETA: 1s"
     ]
    },
    {
     "data": {
      "text/plain": [
       "array([[252,   5],\n",
       "       [ 12, 184]])"
      ]
     },
     "execution_count": 17,
     "metadata": {},
     "output_type": "execute_result"
    }
   ],
   "source": [
    "from sklearn.metrics import confusion_matrix,classification_report\n",
    "predictions = model.predict_classes(scaled_X_test)\n",
    "confusion_matrix(y_test,predictions)"
   ]
  },
  {
   "cell_type": "code",
   "execution_count": 18,
   "metadata": {},
   "outputs": [
    {
     "name": "stdout",
     "output_type": "stream",
     "text": [
      "             precision    recall  f1-score   support\n",
      "\n",
      "        0.0       0.95      0.98      0.97       257\n",
      "        1.0       0.97      0.94      0.96       196\n",
      "\n",
      "avg / total       0.96      0.96      0.96       453\n",
      "\n"
     ]
    }
   ],
   "source": [
    "print(classification_report(y_test,predictions))"
   ]
  },
  {
   "cell_type": "code",
   "execution_count": 19,
   "metadata": {
    "collapsed": true
   },
   "outputs": [],
   "source": [
    "model.save('Counterfeit_model.h5')"
   ]
  },
  {
   "cell_type": "code",
   "execution_count": 21,
   "metadata": {},
   "outputs": [
    {
     "name": "stdout",
     "output_type": "stream",
     "text": [
      "576/919 [=================>............] - ETA: 0s\b\b\b\b\b\b\b\b\b\b\b\b\b\b\b\b\b\b\b\b\b\b\b\b\b\b\b\b\b\b\b\b\b\b\b\b\b\b\b\b\b\b\b\b\b\b\b\b\b\b\b\b\b\b\b\b\b\b\b\b\b\b\b\b\b\b\b\b\b\b\b\b\b\b\b\b\b\b\b\b\b\b\b\b\b\b\b\b\b\b\b\b\b\b\b\b\b\b\b\b\b\b\b\b\b\b\b\b\b\b\b\b\b\b\b\b\b\b\b\b\b\b\b\b\b\b\b\b\b\b\b\b\b\b\b\b\b\b\b\b\b\b\b\b\b\b\b\b\b\b"
     ]
    },
    {
     "data": {
      "text/plain": [
       "array([[491,  14],\n",
       "       [ 21, 393]])"
      ]
     },
     "execution_count": 21,
     "metadata": {},
     "output_type": "execute_result"
    }
   ],
   "source": [
    "from keras.models import load_model\n",
    "newModel = load_model('Counterfeit_model.h5')\n",
    "prediction_Train_data = newModel.predict_classes(scaled_X_train)\n",
    "confusion_matrix(y_train,prediction_Train_data)"
   ]
  },
  {
   "cell_type": "code",
   "execution_count": 22,
   "metadata": {},
   "outputs": [
    {
     "name": "stdout",
     "output_type": "stream",
     "text": [
      "             precision    recall  f1-score   support\n",
      "\n",
      "        0.0       0.96      0.97      0.97       505\n",
      "        1.0       0.97      0.95      0.96       414\n",
      "\n",
      "avg / total       0.96      0.96      0.96       919\n",
      "\n"
     ]
    }
   ],
   "source": [
    "print(classification_report(y_train,prediction_Train_data))"
   ]
  },
  {
   "cell_type": "code",
   "execution_count": null,
   "metadata": {
    "collapsed": true
   },
   "outputs": [],
   "source": []
  }
 ],
 "metadata": {
  "anaconda-cloud": {},
  "kernelspec": {
   "display_name": "Python 3",
   "language": "python",
   "name": "python3"
  },
  "language_info": {
   "codemirror_mode": {
    "name": "ipython",
    "version": 3
   },
   "file_extension": ".py",
   "mimetype": "text/x-python",
   "name": "python",
   "nbconvert_exporter": "python",
   "pygments_lexer": "ipython3",
   "version": "3.6.7"
  }
 },
 "nbformat": 4,
 "nbformat_minor": 2
}
